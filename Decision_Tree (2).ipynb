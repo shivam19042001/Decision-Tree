{
  "nbformat": 4,
  "nbformat_minor": 0,
  "metadata": {
    "colab": {
      "provenance": []
    },
    "kernelspec": {
      "name": "python3",
      "display_name": "Python 3"
    },
    "language_info": {
      "name": "python"
    }
  },
  "cells": [
    {
      "cell_type": "markdown",
      "source": [
        "#Theoretical"
      ],
      "metadata": {
        "id": "V48FbME7PU2r"
      }
    },
    {
      "cell_type": "markdown",
      "source": [
        "1.What is a Decision Tree, and how does it work"
      ],
      "metadata": {
        "id": "cB1NmhgBPjBP"
      }
    },
    {
      "cell_type": "code",
      "source": [
        "\"\"\"\n",
        "A Decision Tree is a type of supervised learning algorithm used for both classification and\n",
        "regression tasks. It functions by dividing the dataset into smaller parts based on specific feature values.\n",
        "This process creates a structure that resembles a tree, where each internal node represents a condition or\n",
        "decision based on a feature, each branch indicates the result of that decision, and each leaf node holds the\n",
        "final prediction or outcome.\n",
        "\"\"\""
      ],
      "metadata": {
        "id": "xPHiBIjGUriO"
      },
      "execution_count": null,
      "outputs": []
    },
    {
      "cell_type": "markdown",
      "source": [
        "2.What are impurity measures in Decision Trees"
      ],
      "metadata": {
        "id": "zKVRXuSYPDt3"
      }
    },
    {
      "cell_type": "code",
      "source": [
        "\"\"\"\n",
        "Impurity measures help evaluate how effectively a decision tree separates the data.\n",
        "Some commonly used impurity measures are:\n",
        "\n",
        " Gini Impurity: Estimates the likelihood of misclassifying a randomly chosen data point.\n",
        "\n",
        " Entropy: Quantifies the level of disorder or uncertainty in the data.\n",
        "\n",
        "Mean Squared Error (MSE): Applied in regression trees to assess how much the variance is reduced after a split.\n",
        "\"\"\""
      ],
      "metadata": {
        "id": "MoN_NmcUUsBH"
      },
      "execution_count": null,
      "outputs": []
    },
    {
      "cell_type": "markdown",
      "source": [
        "3.What is the mathematical formula for Gini Impurity"
      ],
      "metadata": {
        "id": "hZCUZVhyPD0G"
      }
    },
    {
      "cell_type": "code",
      "source": [
        "\"\"\"\n",
        "The impurity of a node with classes 𝑖  is calculated using the formula:\n",
        "\n",
        "Impurity\n",
        "      n\n",
        "= 1 - ∑ 𝑝𝑖^2\n",
        "     i=1\n",
        "where:\n",
        "𝑝𝑖 is the proportion (or probability) of class 𝑖 in the node.\n",
        "\"\"\""
      ],
      "metadata": {
        "id": "j5FZF-x8UsYA"
      },
      "execution_count": null,
      "outputs": []
    },
    {
      "cell_type": "markdown",
      "source": [
        "4.What is the mathematical formula for Entropy"
      ],
      "metadata": {
        "id": "SrzJt5c-PD3x"
      }
    },
    {
      "cell_type": "code",
      "source": [
        "\"\"\"\n",
        "The mathematical formula for Entropy (used in decision trees) is:\n",
        "     n\n",
        "  = -∑ pi log2(pi)\n",
        "    i=1\n",
        "where:\n",
        "𝑝𝑖 is the proportion (or probability) of class 𝑖 in the node.\n",
        "\"\"\""
      ],
      "metadata": {
        "colab": {
          "base_uri": "https://localhost:8080/",
          "height": 36
        },
        "id": "o5s9rofSUsrS",
        "outputId": "80a57303-502b-4ebb-c9b2-d5855e9eb50a"
      },
      "execution_count": 1,
      "outputs": [
        {
          "output_type": "execute_result",
          "data": {
            "text/plain": [
              "'\\nThe mathematical formula for Entropy (used in decision trees) is:\\n'"
            ],
            "application/vnd.google.colaboratory.intrinsic+json": {
              "type": "string"
            }
          },
          "metadata": {},
          "execution_count": 1
        }
      ]
    },
    {
      "cell_type": "markdown",
      "source": [
        "5.What is Information Gain, and how is it used in Decision Trees"
      ],
      "metadata": {
        "id": "SWNQWnvjPD7I"
      }
    },
    {
      "cell_type": "code",
      "source": [
        "\"\"\"\n",
        " Information Gain (IG) measures the reduction in entropy after a dataset is split. It is calculated as:\n",
        "\n",
        "IG = Entropy(Parent)- ∑(nk/N) * Entropy(Childk)\n",
        "\n",
        " where N is the total number of samples, and nk is the number of samples in the child node. A higher IG\n",
        "\n",
        " indicates a better split\n",
        "\"\"\""
      ],
      "metadata": {
        "id": "Hl59MGLdUtBQ"
      },
      "execution_count": null,
      "outputs": []
    },
    {
      "cell_type": "markdown",
      "source": [
        "6.What is the difference between Gini Impurity and Entropy"
      ],
      "metadata": {
        "id": "shOgt5RnPD-S"
      }
    },
    {
      "cell_type": "code",
      "source": [
        "\"\"\"\n",
        "Gini Impurity:\n",
        "\n",
        "-Calculates impurity by using the squares of class probabilities\n",
        "-Quicker to calculate since it doesn’t involve complex math like logarithms\n",
        "-Commonly chosen in the CART (Classification and Regression Trees) method\n",
        "\n",
        "Entropy:\n",
        "\n",
        "-Determines impurity by using logarithmic values of class probabilities\n",
        "-Gives a better understanding of how the classes are spread out\n",
        "-Mainly used in the ID3 (Iterative Dichotomiser 3) algorithm\n",
        "\"\"\""
      ],
      "metadata": {
        "id": "UXKf8dx1UtSj"
      },
      "execution_count": null,
      "outputs": []
    },
    {
      "cell_type": "markdown",
      "source": [
        "7.What is the mathematical explanation behind Decision Trees"
      ],
      "metadata": {
        "id": "BHZ0g1REPEBX"
      }
    },
    {
      "cell_type": "code",
      "source": [
        "\"\"\"\n",
        "- At each node, the tree calculates impurity (using Gini, Entropy, or MSE depending on the task).\n",
        "\n",
        "- It then chooses the best split — the one that gives the highest Information Gain (best separation).\n",
        "\n",
        "- This process continues recursively, breaking down the data further, until a stopping rule is reached\n",
        "  (like maximum depth or minimum number of samples).\n",
        "\n",
        "- Once no further splits are made, the leaf nodes give the final prediction:\n",
        "\n",
        "For classification, the most frequent class is chosen.\n",
        "\n",
        "For regression, the average (mean) value is returned.\n",
        "\"\"\""
      ],
      "metadata": {
        "id": "7qg_ybWUUtr7"
      },
      "execution_count": null,
      "outputs": []
    },
    {
      "cell_type": "markdown",
      "source": [
        "8.What is Pre-Pruning in Decision Trees"
      ],
      "metadata": {
        "id": "rHJjuKXEPEEo"
      }
    },
    {
      "cell_type": "code",
      "source": [
        "\"\"\"\n",
        "Pre-pruning stops a decision tree from growing too much, helping to avoid overfitting.\n",
        "Some common ways to do this include:\n",
        "\n",
        "-Setting max_depth: Limits how deep the tree can go (how many levels).\n",
        "\n",
        "-Using min_samples_split: The minimum number of samples needed to split a node.\n",
        "\n",
        "-Applying min_samples_leaf: The smallest number of samples allowed in a final (leaf) node.\n",
        "\"\"\""
      ],
      "metadata": {
        "id": "sQIg_OHMUt63"
      },
      "execution_count": null,
      "outputs": []
    },
    {
      "cell_type": "markdown",
      "source": [
        "9.What is Post-Pruning in Decision Trees"
      ],
      "metadata": {
        "id": "Eiumt6CJPEII"
      }
    },
    {
      "cell_type": "code",
      "source": [
        "\"\"\"\n",
        "Post-pruning means trimming down a fully grown decision tree by cutting off branches (nodes)\n",
        "that don’t add much value to the model’s accuracy.\n",
        "\n",
        "The goal is to avoid overfitting and improve generalization on new data.\n",
        "\n",
        "Common Techniques:\n",
        "Cost Complexity Pruning (CCP):\n",
        "Adds a penalty for having a larger tree and removes parts of the tree that don’t improve performance enough to justify their complexity.\n",
        "\n",
        "Error-Based Pruning:\n",
        "Cuts off nodes if removing them doesn’t increase the error much on a validation set (or might even reduce it).\n",
        "\"\"\""
      ],
      "metadata": {
        "id": "FZR2PmhCUuR2"
      },
      "execution_count": null,
      "outputs": []
    },
    {
      "cell_type": "markdown",
      "source": [
        "10.What is the difference between Pre-Pruning and Post-Pruning"
      ],
      "metadata": {
        "id": "1js22g1qPEK4"
      }
    },
    {
      "cell_type": "code",
      "source": [
        "\"\"\"\n",
        "\n",
        "Pre-Pruning:\n",
        "\n",
        "-Halts the tree building process before it becomes too complex\n",
        "-Helps avoid the model from learning noise (overfitting)\n",
        "-Requires setting conditions ahead of time (like max depth or minimum number of samples)\n",
        "\n",
        "\n",
        "Post-Pruning:\n",
        "\n",
        "-Builds the complete tree first, then trims unnecessary parts\n",
        "-Helps the model perform better on unseen/test data\n",
        "-Uses a separate validation set to decide which branches to remove\n",
        "\n",
        "\"\"\""
      ],
      "metadata": {
        "colab": {
          "base_uri": "https://localhost:8080/",
          "height": 53
        },
        "id": "uTcCoDQuUuhQ",
        "outputId": "9d390847-4883-4edb-ba08-d8851a91e7de"
      },
      "execution_count": 2,
      "outputs": [
        {
          "output_type": "execute_result",
          "data": {
            "text/plain": [
              "'\\n\\nPre-Pruning:\\n\\n-Halts the tree building process before it becomes too complex\\n-Helps avoid the model from learning noise (overfitting)\\n-Requires setting conditions ahead of time (like max depth or minimum number of samples)\\n\\n\\nPost-Pruning:\\n\\n\\n\\n'"
            ],
            "application/vnd.google.colaboratory.intrinsic+json": {
              "type": "string"
            }
          },
          "metadata": {},
          "execution_count": 2
        }
      ]
    },
    {
      "cell_type": "markdown",
      "source": [
        "11.What is a Decision Tree Regressor"
      ],
      "metadata": {
        "id": "6nRLGT2MPEOG"
      }
    },
    {
      "cell_type": "code",
      "source": [
        "\"\"\"\n",
        "A Decision Tree Regressor is used for predicting continuous numeric values (not for classification). It works by:\n",
        "\n",
        "-Splitting the data to reduce variance, instead of using Gini or Entropy like in classification.\n",
        "\n",
        "-Assigning the average (mean) of the target values to each leaf node.\n",
        "\n",
        "-Using Mean Squared Error (MSE) to decide the best way to split the data.\n",
        "\"\"\""
      ],
      "metadata": {
        "id": "bFZAq-h7Uu5C"
      },
      "execution_count": null,
      "outputs": []
    },
    {
      "cell_type": "markdown",
      "source": [
        "12.What are the advantages and disadvantages of Decision Trees"
      ],
      "metadata": {
        "id": "lz6PFNMXPERd"
      }
    },
    {
      "cell_type": "code",
      "source": [
        "\"\"\"\n",
        "Advantages:\n",
        "\n",
        "-Easy to read, explain, and understand\n",
        "-Can be used for both classification and regression tasks\n",
        "-Capable of handling both numeric and categorical features\n",
        "\n",
        "Disadvantages:\n",
        "\n",
        "-May overfit the training data if not pruned properly\n",
        "-Small changes in the dataset can lead to a completely different tree\n",
        "-Might produce uneven splits, causing the model to become biased or less accurate\n",
        "\"\"\""
      ],
      "metadata": {
        "collapsed": true,
        "id": "6dMxq2SqUvSj"
      },
      "execution_count": null,
      "outputs": []
    },
    {
      "cell_type": "markdown",
      "source": [
        "13.How does a Decision Tree handle missing values"
      ],
      "metadata": {
        "id": "8JYk5vCgPEVQ"
      }
    },
    {
      "cell_type": "code",
      "source": [
        "\"\"\"\n",
        "-They can skip missing values when deciding where to split the data\n",
        "\n",
        "-They may use surrogate splits, which rely on other available features to make a similar decision\n",
        "\n",
        "-They can fill in missing values using techniques like replacing with the median, mean, or most common value (mode)\n",
        "\"\"\""
      ],
      "metadata": {
        "id": "OXsmGqSSUvko"
      },
      "execution_count": null,
      "outputs": []
    },
    {
      "cell_type": "markdown",
      "source": [
        "14. How does a Decision Tree handle categorical features"
      ],
      "metadata": {
        "id": "aNAC1EGFPEaz"
      }
    },
    {
      "cell_type": "code",
      "source": [
        "\"\"\"\n",
        "-One-Hot Encoding: Converts each category into a separate binary column with values of 0 or 1\n",
        "\n",
        "-Label Encoding: Assigns a unique number to each category (e.g., Red = 1, Blue = 2)\n",
        "\n",
        "-Categorical Splits: Some tree algorithms (like C4.5 or CHAID) can directly split data\n",
        " based on the frequency or grouping of categories\n",
        "\"\"\""
      ],
      "metadata": {
        "id": "uvPdH5dSUv3Q"
      },
      "execution_count": null,
      "outputs": []
    },
    {
      "cell_type": "markdown",
      "source": [
        "15.What are some real-world applications of Decision Trees?"
      ],
      "metadata": {
        "id": "yD96pqWWPP3C"
      }
    },
    {
      "cell_type": "code",
      "source": [
        "\"\"\"\n",
        "-Healthcare: Used to predict diseases, such as identifying the likelihood of cancer\n",
        "\n",
        "-Finance: Helps evaluate credit risk and detect fraudulent activities\n",
        "\n",
        "-Marketing: Assists in grouping customers and creating personalized marketing strategies\n",
        "\n",
        "-Manufacturing: Used to identify product defects and improve production processes\n",
        "\n",
        "-Retail: Supports building product recommendation systems and managing stock efficiently\n",
        "\"\"\""
      ],
      "metadata": {
        "id": "LfXAYC5UUwXc"
      },
      "execution_count": null,
      "outputs": []
    },
    {
      "cell_type": "markdown",
      "source": [
        "#practical questions"
      ],
      "metadata": {
        "id": "8YVnyzZOPPg9"
      }
    },
    {
      "cell_type": "code",
      "source": [
        "#16 Write a Python program to train a Decision Tree Classifier on the Iris dataset and print the model accuracy\n",
        "\n",
        "import pandas as pd\n",
        "from sklearn.model_selection import train_test_split\n",
        "from sklearn.tree import DecisionTreeClassifier\n",
        "from sklearn.metrics import accuracy_score\n",
        "from sklearn.datasets import load_iris\n",
        "\n",
        "# Load dataset\n",
        "iris = load_iris()\n",
        "features = pd.DataFrame(iris.data, columns=iris.feature_names)\n",
        "labels = pd.Series(iris.target)\n",
        "\n",
        "# Split dataset\n",
        "X_train, X_test, y_train, y_test = train_test_split(features, labels, test_size=0.2, random_state=42)\n",
        "\n",
        "# Train Decision Tree Classifier\n",
        "tree_model = DecisionTreeClassifier()\n",
        "tree_model.fit(X_train, y_train)\n",
        "\n",
        "# Predict and print accuracy\n",
        "y_pred = tree_model.predict(X_test)\n",
        "print(\"Decision Tree Classifier Accuracy:\", accuracy_score(y_test, y_pred))\n"
      ],
      "metadata": {
        "colab": {
          "base_uri": "https://localhost:8080/"
        },
        "id": "z_dmjW-0O-MP",
        "outputId": "7b065d01-ca29-4e53-94ec-beddcea10455"
      },
      "execution_count": 4,
      "outputs": [
        {
          "output_type": "stream",
          "name": "stdout",
          "text": [
            "Decision Tree Classifier Accuracy: 1.0\n"
          ]
        }
      ]
    },
    {
      "cell_type": "code",
      "source": [
        "#17 Write a Python program to train a Decision Tree Classifier using Gini Impurity as the criterion and print the feature importances*\n",
        "\n",
        "import pandas as pd\n",
        "from sklearn.model_selection import train_test_split\n",
        "from sklearn.tree import DecisionTreeClassifier\n",
        "from sklearn.datasets import load_wine\n",
        "\n",
        "# Load dataset\n",
        "wine_data = load_wine()\n",
        "input_features = pd.DataFrame(wine_data.data, columns=wine_data.feature_names)\n",
        "target_labels = pd.Series(wine_data.target)\n",
        "\n",
        "# Split dataset\n",
        "train_features, test_features, train_labels, test_labels = train_test_split(\n",
        "    input_features, target_labels, test_size=0.2, random_state=42)\n",
        "\n",
        "# Train Decision Tree with Gini Impurity\n",
        "wine_tree = DecisionTreeClassifier(criterion='gini')\n",
        "wine_tree.fit(train_features, train_labels)\n",
        "\n",
        "# Print feature importances\n",
        "print(\"Feature Importances:\", wine_tree.feature_importances_)\n"
      ],
      "metadata": {
        "colab": {
          "base_uri": "https://localhost:8080/"
        },
        "id": "wsxcd5SnO-U5",
        "outputId": "20b622b7-d76e-4443-d759-8398e56e628e"
      },
      "execution_count": 5,
      "outputs": [
        {
          "output_type": "stream",
          "name": "stdout",
          "text": [
            "Feature Importances: [0.01899507 0.         0.02094206 0.         0.         0.\n",
            " 0.41105326 0.         0.         0.38493424 0.         0.\n",
            " 0.16407537]\n"
          ]
        }
      ]
    },
    {
      "cell_type": "code",
      "source": [
        "#18 Write a Python program to train a Decision Tree Classifier using Entropy as the splitting criterion and print the model accuracy*\n",
        "\n",
        "import pandas as pd\n",
        "from sklearn.model_selection import train_test_split\n",
        "from sklearn.tree import DecisionTreeClassifier\n",
        "from sklearn.metrics import accuracy_score\n",
        "from sklearn.datasets import load_breast_cancer\n",
        "\n",
        "# Load dataset\n",
        "cancer_data = load_breast_cancer()\n",
        "features = pd.DataFrame(cancer_data.data, columns=cancer_data.feature_names)\n",
        "labels = pd.Series(cancer_data.target)\n",
        "\n",
        "# Split dataset\n",
        "features_train, features_test, labels_train, labels_test = train_test_split(\n",
        "    features, labels, test_size=0.2, random_state=42)\n",
        "\n",
        "# Train Decision Tree with Entropy\n",
        "cancer_tree = DecisionTreeClassifier(criterion='entropy')\n",
        "cancer_tree.fit(features_train, labels_train)\n",
        "\n",
        "# Predict and print accuracy\n",
        "predicted_labels = cancer_tree.predict(features_test)\n",
        "print(\"Decision Tree Classifier Accuracy with Entropy:\", accuracy_score(labels_test, predicted_labels))\n"
      ],
      "metadata": {
        "colab": {
          "base_uri": "https://localhost:8080/"
        },
        "id": "mmT6r7xXO-ZC",
        "outputId": "4d761325-937a-4d34-aeda-78dc5a2ef8d9"
      },
      "execution_count": 6,
      "outputs": [
        {
          "output_type": "stream",
          "name": "stdout",
          "text": [
            "Decision Tree Classifier Accuracy with Entropy: 0.9473684210526315\n"
          ]
        }
      ]
    },
    {
      "cell_type": "code",
      "source": [
        "#19 Write a Python program to train a Decision Tree Regressor on a housing dataset and evaluate using Mean Squared Error (MSE)*\n",
        "\n",
        "import pandas as pd\n",
        "from sklearn.model_selection import train_test_split\n",
        "from sklearn.tree import DecisionTreeRegressor\n",
        "from sklearn.metrics import mean_squared_error\n",
        "from sklearn.datasets import fetch_california_housing\n",
        "\n",
        "# Load dataset\n",
        "housing_data = fetch_california_housing()\n",
        "features = pd.DataFrame(housing_data.data, columns=housing_data.feature_names)\n",
        "prices = pd.Series(housing_data.target)\n",
        "\n",
        "# Split dataset\n",
        "features_train, features_test, prices_train, prices_test = train_test_split(\n",
        "    features, prices, test_size=0.2, random_state=42)\n",
        "\n",
        "# Train Decision Tree Regressor\n",
        "regressor = DecisionTreeRegressor()\n",
        "regressor.fit(features_train, prices_train)\n",
        "\n",
        "# Predict and print Mean Squared Error\n",
        "predicted_prices = regressor.predict(features_test)\n",
        "print(\"Mean Squared Error:\", mean_squared_error(prices_test, predicted_prices))\n"
      ],
      "metadata": {
        "colab": {
          "base_uri": "https://localhost:8080/"
        },
        "id": "4UdxCuJhO-bu",
        "outputId": "77fae110-e31e-419e-dfac-440558cb7235"
      },
      "execution_count": 7,
      "outputs": [
        {
          "output_type": "stream",
          "name": "stdout",
          "text": [
            "Mean Squared Error: 0.5114315888268652\n"
          ]
        }
      ]
    },
    {
      "cell_type": "code",
      "source": [
        "#20 Write a Python program to train a Decision Tree Classifier and visualize the tree using graphviz*\n",
        "\n",
        "import pandas as pd\n",
        "import graphviz\n",
        "from sklearn.model_selection import train_test_split\n",
        "from sklearn.tree import DecisionTreeClassifier, export_graphviz\n",
        "from sklearn.datasets import load_iris\n",
        "\n",
        "# Load dataset\n",
        "iris_data = load_iris()\n",
        "features = pd.DataFrame(iris_data.data, columns=iris_data.feature_names)\n",
        "targets = pd.Series(iris_data.target)\n",
        "\n",
        "# Split dataset\n",
        "features_train, features_test, targets_train, targets_test = train_test_split(\n",
        "    features, targets, test_size=0.2, random_state=42)\n",
        "\n",
        "# Train Decision Tree Classifier\n",
        "iris_tree = DecisionTreeClassifier()\n",
        "iris_tree.fit(features_train, targets_train)\n",
        "\n",
        "# Export tree to Graphviz\n",
        "tree_dot = export_graphviz(\n",
        "    iris_tree,\n",
        "    feature_names=features.columns,\n",
        "    class_names=iris_data.target_names,\n",
        "    filled=True\n",
        ")\n",
        "tree_graph = graphviz.Source(tree_dot)\n",
        "tree_graph.render(\"decision_tree\")  # Saves tree visualization\n"
      ],
      "metadata": {
        "colab": {
          "base_uri": "https://localhost:8080/",
          "height": 36
        },
        "id": "k4o0CkC1O-ey",
        "outputId": "17739c2a-090d-48f8-b425-b4c437ddb740"
      },
      "execution_count": 8,
      "outputs": [
        {
          "output_type": "execute_result",
          "data": {
            "text/plain": [
              "'decision_tree.pdf'"
            ],
            "application/vnd.google.colaboratory.intrinsic+json": {
              "type": "string"
            }
          },
          "metadata": {},
          "execution_count": 8
        }
      ]
    },
    {
      "cell_type": "code",
      "source": [
        "#21 Write a Python program to train a Decision Tree Classifier with a maximum depth of 3 and compare its accuracy with a fully grown tree*\n",
        "\n",
        "import pandas as pd\n",
        "from sklearn.model_selection import train_test_split\n",
        "from sklearn.tree import DecisionTreeClassifier\n",
        "from sklearn.metrics import accuracy_score\n",
        "from sklearn.datasets import load_wine\n",
        "\n",
        "# Load dataset\n",
        "wine_data = load_wine()\n",
        "features = pd.DataFrame(wine_data.data, columns=wine_data.feature_names)\n",
        "labels = pd.Series(wine_data.target)\n",
        "\n",
        "# Split dataset\n",
        "features_train, features_test, labels_train, labels_test = train_test_split(\n",
        "    features, labels, test_size=0.2, random_state=42)\n",
        "\n",
        "# Train Decision Tree with max_depth=3\n",
        "shallow_tree = DecisionTreeClassifier(max_depth=3)\n",
        "shallow_tree.fit(features_train, labels_train)\n",
        "shallow_predictions = shallow_tree.predict(features_test)\n",
        "\n",
        "# Train fully grown Decision Tree\n",
        "full_tree = DecisionTreeClassifier()\n",
        "full_tree.fit(features_train, labels_train)\n",
        "full_predictions = full_tree.predict(features_test)\n",
        "\n",
        "# Print accuracy comparison\n",
        "print(\"Accuracy with max_depth=3:\", accuracy_score(labels_test, shallow_predictions))\n",
        "print(\"Accuracy with fully grown tree:\", accuracy_score(labels_test, full_predictions))\n"
      ],
      "metadata": {
        "colab": {
          "base_uri": "https://localhost:8080/"
        },
        "id": "AaxKRpbqO-h-",
        "outputId": "ca8aedc8-d002-47d0-86f9-0229bf366c6f"
      },
      "execution_count": 9,
      "outputs": [
        {
          "output_type": "stream",
          "name": "stdout",
          "text": [
            "Accuracy with max_depth=3: 0.9444444444444444\n",
            "Accuracy with fully grown tree: 0.9444444444444444\n"
          ]
        }
      ]
    },
    {
      "cell_type": "code",
      "source": [
        "#22  Write a Python program to train a Decision Tree Classifier using min_samples_split=5 and compare its accuracy with a default tree*\n",
        "\n",
        "import pandas as pd\n",
        "from sklearn.model_selection import train_test_split\n",
        "from sklearn.tree import DecisionTreeClassifier\n",
        "from sklearn.metrics import accuracy_score\n",
        "from sklearn.datasets import load_digits\n",
        "\n",
        "# Load the digits dataset\n",
        "digits = load_digits()\n",
        "features = pd.DataFrame(digits.data)\n",
        "binary_labels = pd.Series(digits.target % 2)  # Convert to binary: even (0) or odd (1)\n",
        "\n",
        "# Split the dataset into training and test sets\n",
        "features_train, features_test, labels_train, labels_test = train_test_split(\n",
        "    features, binary_labels, test_size=0.2, random_state=42)\n",
        "\n",
        "# Train a Decision Tree with a constraint on minimum samples per split\n",
        "restricted_tree = DecisionTreeClassifier(min_samples_split=5)\n",
        "restricted_tree.fit(features_train, labels_train)\n",
        "restricted_predictions = restricted_tree.predict(features_test)\n",
        "\n",
        "# Train a default Decision Tree without constraints\n",
        "default_tree = DecisionTreeClassifier()\n",
        "default_tree.fit(features_train, labels_train)\n",
        "default_predictions = default_tree.predict(features_test)\n",
        "\n",
        "# Compare and display the accuracies of both models\n",
        "print(\"Accuracy with min_samples_split=5:\", accuracy_score(labels_test, restricted_predictions))\n",
        "print(\"Accuracy with default tree:\", accuracy_score(labels_test, default_predictions))\n"
      ],
      "metadata": {
        "colab": {
          "base_uri": "https://localhost:8080/"
        },
        "id": "EnAOmz3jO-k4",
        "outputId": "5a728fae-fd6d-4ad1-9ec4-e7e15dd0bd69"
      },
      "execution_count": 10,
      "outputs": [
        {
          "output_type": "stream",
          "name": "stdout",
          "text": [
            "Accuracy with min_samples_split=5: 0.9305555555555556\n",
            "Accuracy with default tree: 0.925\n"
          ]
        }
      ]
    },
    {
      "cell_type": "code",
      "source": [
        "#23 Write a Python program to apply feature scaling before training a Decision Tree Classifier and compare its accuracy with unscaled data*\n",
        "\n",
        "import pandas as pd\n",
        "from sklearn.model_selection import train_test_split\n",
        "from sklearn.preprocessing import StandardScaler\n",
        "from sklearn.tree import DecisionTreeClassifier\n",
        "from sklearn.metrics import accuracy_score\n",
        "from sklearn.datasets import load_iris\n",
        "\n",
        "# Load dataset\n",
        "iris_dataset = load_iris()\n",
        "features = pd.DataFrame(iris_dataset.data, columns=iris_dataset.feature_names)\n",
        "targets = pd.Series(iris_dataset.target)\n",
        "\n",
        "# Split dataset\n",
        "features_train, features_test, targets_train, targets_test = train_test_split(\n",
        "    features, targets, test_size=0.2, random_state=42)\n",
        "\n",
        "# Train Decision Tree on unscaled data\n",
        "tree_unscaled = DecisionTreeClassifier()\n",
        "tree_unscaled.fit(features_train, targets_train)\n",
        "preds_unscaled = tree_unscaled.predict(features_test)\n",
        "\n",
        "# Apply feature scaling\n",
        "scaler = StandardScaler()\n",
        "features_train_scaled = scaler.fit_transform(features_train)\n",
        "features_test_scaled = scaler.transform(features_test)\n",
        "\n",
        "# Train Decision Tree on scaled data\n",
        "tree_scaled = DecisionTreeClassifier()\n",
        "tree_scaled.fit(features_train_scaled, targets_train)\n",
        "preds_scaled = tree_scaled.predict(features_test_scaled)\n",
        "\n",
        "# Print accuracy comparison\n",
        "print(\"Accuracy without scaling:\", accuracy_score(targets_test, preds_unscaled))\n",
        "print(\"Accuracy with scaling:\", accuracy_score(targets_test, preds_scaled))\n"
      ],
      "metadata": {
        "colab": {
          "base_uri": "https://localhost:8080/"
        },
        "id": "3K8q-3wBO-nx",
        "outputId": "897fe457-08e1-4a23-de8e-76da9fc25d9d"
      },
      "execution_count": 11,
      "outputs": [
        {
          "output_type": "stream",
          "name": "stdout",
          "text": [
            "Accuracy without scaling: 1.0\n",
            "Accuracy with scaling: 1.0\n"
          ]
        }
      ]
    },
    {
      "cell_type": "code",
      "source": [
        "#24 Write a Python program to train a Decision Tree Classifier using One-vs-Rest (OvR) strategy for multiclass classification*\n",
        "\n",
        "import pandas as pd\n",
        "from sklearn.model_selection import train_test_split\n",
        "from sklearn.tree import DecisionTreeClassifier\n",
        "from sklearn.multiclass import OneVsRestClassifier\n",
        "from sklearn.datasets import load_wine\n",
        "from sklearn.metrics import accuracy_score\n",
        "\n",
        "# Load the wine dataset\n",
        "wine = load_wine()\n",
        "features = pd.DataFrame(wine.data, columns=wine.feature_names)\n",
        "labels = pd.Series(wine.target)\n",
        "\n",
        "# Split the dataset into training and testing sets\n",
        "features_train, features_test, labels_train, labels_test = train_test_split(\n",
        "    features, labels, test_size=0.2, random_state=42)\n",
        "\n",
        "# Initialize and train a One-vs-Rest Decision Tree model\n",
        "ovr_classifier = OneVsRestClassifier(DecisionTreeClassifier())\n",
        "ovr_classifier.fit(features_train, labels_train)\n",
        "\n",
        "# Make predictions and display accuracy\n",
        "results = ovr_classifier.predict(features_test)\n",
        "print(\"Accuracy of One-vs-Rest Decision Tree:\", accuracy_score(labels_test, results))\n"
      ],
      "metadata": {
        "colab": {
          "base_uri": "https://localhost:8080/"
        },
        "id": "eBdcJgGHO-sF",
        "outputId": "97031d8c-079a-4a9f-ef65-4f5f19902205"
      },
      "execution_count": 12,
      "outputs": [
        {
          "output_type": "stream",
          "name": "stdout",
          "text": [
            "Accuracy of One-vs-Rest Decision Tree: 0.9166666666666666\n"
          ]
        }
      ]
    },
    {
      "cell_type": "code",
      "source": [
        "#25 Write a Python program to train a Decision Tree Classifier and display the feature importance scores*\n",
        "\n",
        "import pandas as pd\n",
        "import numpy as np\n",
        "import matplotlib.pyplot as plt\n",
        "from sklearn.model_selection import train_test_split\n",
        "from sklearn.tree import DecisionTreeClassifier\n",
        "from sklearn.datasets import load_iris\n",
        "\n",
        "# Load the iris dataset\n",
        "iris_data = load_iris()\n",
        "features = pd.DataFrame(iris_data.data, columns=iris_data.feature_names)\n",
        "targets = pd.Series(iris_data.target)\n",
        "\n",
        "# Split the data into training and test sets\n",
        "features_train, features_test, targets_train, targets_test = train_test_split(\n",
        "    features, targets, test_size=0.2, random_state=42)\n",
        "\n",
        "# Initialize and train the Decision Tree classifier\n",
        "tree_model = DecisionTreeClassifier()\n",
        "tree_model.fit(features_train, targets_train)\n",
        "\n",
        "# Extract feature importances\n",
        "importance_scores = tree_model.feature_importances_\n",
        "\n",
        "# Plot the feature importances\n",
        "plt.figure(figsize=(8, 5))\n",
        "plt.barh(features.columns, importance_scores, color=\"lightgreen\")\n",
        "plt.xlabel(\"Importance Score\")\n",
        "plt.ylabel(\"Feature\")\n",
        "plt.title(\"Decision Tree Feature Importance Visualization\")\n",
        "plt.tight_layout()\n",
        "plt.show()\n"
      ],
      "metadata": {
        "colab": {
          "base_uri": "https://localhost:8080/",
          "height": 507
        },
        "id": "jgilETUTQExw",
        "outputId": "eb216fcd-363f-4e02-cc5b-c1c82ab75ff5"
      },
      "execution_count": 13,
      "outputs": [
        {
          "output_type": "display_data",
          "data": {
            "text/plain": [
              "<Figure size 800x500 with 1 Axes>"
            ],
            "image/png": "[encoded data removed]"
          },
          "metadata": {}
        }
      ]
    },
    {
      "cell_type": "code",
      "source": [
        "#26 Write a Python program to train a Decision Tree Regressor with max_depth=5 and compare its performance with an unrestricted tree*\n",
        "\n",
        "import pandas as pd\n",
        "from sklearn.model_selection import train_test_split\n",
        "from sklearn.tree import DecisionTreeRegressor\n",
        "from sklearn.metrics import mean_squared_error\n",
        "from sklearn.datasets import fetch_california_housing\n",
        "\n",
        "# Load dataset\n",
        "housing_data = fetch_california_housing()\n",
        "features = pd.DataFrame(housing_data.data, columns=housing_data.feature_names)\n",
        "target_values = pd.Series(housing_data.target)\n",
        "\n",
        "# Split dataset\n",
        "features_train, features_test, target_train, target_test = train_test_split(\n",
        "    features, target_values, test_size=0.2, random_state=42)\n",
        "\n",
        "# Train Decision Tree Regressor with max_depth=5\n",
        "regressor_limited = DecisionTreeRegressor(max_depth=5)\n",
        "regressor_limited.fit(features_train, target_train)\n",
        "preds_limited = regressor_limited.predict(features_test)\n",
        "\n",
        "# Train unrestricted Decision Tree Regressor\n",
        "regressor_full = DecisionTreeRegressor()\n",
        "regressor_full.fit(features_train, target_train)\n",
        "preds_full = regressor_full.predict(features_test)\n",
        "\n",
        "# Print MSE comparison\n",
        "print(\"Mean Squared Error with max_depth=5:\", mean_squared_error(target_test, preds_limited))\n",
        "print(\"Mean Squared Error with full tree:\", mean_squared_error(target_test, preds_full))\n"
      ],
      "metadata": {
        "colab": {
          "base_uri": "https://localhost:8080/"
        },
        "id": "gBueRDD4QE8t",
        "outputId": "5978d56c-38ea-4336-e465-b3d157745d72"
      },
      "execution_count": 14,
      "outputs": [
        {
          "output_type": "stream",
          "name": "stdout",
          "text": [
            "Mean Squared Error with max_depth=5: 0.5245146178314736\n",
            "Mean Squared Error with full tree: 0.48803765668527127\n"
          ]
        }
      ]
    },
    {
      "cell_type": "code",
      "source": [
        "#27 Write a Python program to train a Decision Tree Classifier, apply Cost Complexity Pruning (CCP), and visualize its effect on accuracy\n",
        "\n",
        "import pandas as pd\n",
        "import numpy as np\n",
        "import matplotlib.pyplot as plt\n",
        "from sklearn.model_selection import train_test_split\n",
        "from sklearn.tree import DecisionTreeClassifier\n",
        "from sklearn.datasets import load_wine\n",
        "\n",
        "# Load dataset\n",
        "wine_data = load_wine()\n",
        "features = pd.DataFrame(wine_data.data, columns=wine_data.feature_names)\n",
        "labels = pd.Series(wine_data.target)\n",
        "\n",
        "# Split dataset\n",
        "features_train, features_test, labels_train, labels_test = train_test_split(\n",
        "    features, labels, test_size=0.2, random_state=42)\n",
        "\n",
        "# Train initial Decision Tree Classifier without pruning\n",
        "initial_tree = DecisionTreeClassifier(random_state=42)\n",
        "initial_tree.fit(features_train, labels_train)\n",
        "\n",
        "# Obtain Cost Complexity Pruning path\n",
        "pruning_path = initial_tree.cost_complexity_pruning_path(features_train, labels_train)\n",
        "alpha_values = pruning_path.ccp_alphas  # Get alpha values\n",
        "\n",
        "# Filter alpha values: remove duplicates and non-positive alphas\n",
        "alpha_values = np.unique(alpha_values)\n",
        "alpha_values = alpha_values[alpha_values > 0]\n",
        "\n",
        "# Train models for each alpha value and store accuracies\n",
        "train_accuracies = []\n",
        "test_accuracies = []\n",
        "\n",
        "for alpha in alpha_values:\n",
        "    pruned_tree = DecisionTreeClassifier(ccp_alpha=alpha, random_state=42)\n",
        "    pruned_tree.fit(features_train, labels_train)\n",
        "    train_accuracies.append(pruned_tree.score(features_train, labels_train))\n",
        "    test_accuracies.append(pruned_tree.score(features_test, labels_test))\n",
        "\n",
        "# Plot how pruning strength affects accuracy\n",
        "plt.figure(figsize=(8, 5))\n",
        "plt.plot(alpha_values, train_accuracies, marker='o', linestyle='dashed', label=\"Training Accuracy\")\n",
        "plt.plot(alpha_values, test_accuracies, marker='o', linestyle='solid', label=\"Testing Accuracy\")\n",
        "plt.xlabel(\"Cost Complexity Pruning Alpha\")\n",
        "plt.ylabel(\"Accuracy\")\n",
        "plt.title(\"Impact of Cost Complexity Pruning on Model Accuracy\")\n",
        "plt.legend()\n",
        "plt.show()\n"
      ],
      "metadata": {
        "colab": {
          "base_uri": "https://localhost:8080/",
          "height": 487
        },
        "id": "caxOiWRqQFGS",
        "outputId": "54cfd1a5-0c24-49ed-d1cb-744d776ef650"
      },
      "execution_count": 15,
      "outputs": [
        {
          "output_type": "display_data",
          "data": {
            "text/plain": [
              "<Figure size 800x500 with 1 Axes>"
            ],
            "image/png": "[encoded data removed]"
          },
          "metadata": {}
        }
      ]
    },
    {
      "cell_type": "code",
      "source": [
        "#28 Write a Python program to train a Decision Tree Classifier and evaluate its performance using Precision, Recall, and F1-Score*\n",
        "\n",
        "import pandas as pd\n",
        "from sklearn.model_selection import train_test_split\n",
        "from sklearn.tree import DecisionTreeClassifier\n",
        "from sklearn.metrics import precision_score, recall_score, f1_score\n",
        "from sklearn.datasets import load_digits\n",
        "\n",
        "# Load the digits dataset\n",
        "digits_data = load_digits()\n",
        "features = pd.DataFrame(digits_data.data)\n",
        "targets = pd.Series(digits_data.target % 2)  # Change target to binary classes (even or odd)\n",
        "\n",
        "# Divide data into training and testing sets\n",
        "features_train, features_test, targets_train, targets_test = train_test_split(\n",
        "    features, targets, test_size=0.2, random_state=42)\n",
        "\n",
        "# Build and train a Decision Tree classifier\n",
        "classifier = DecisionTreeClassifier()\n",
        "classifier.fit(features_train, targets_train)\n",
        "\n",
        "# Predict the labels for test data and assess performance\n",
        "predicted_labels = classifier.predict(features_test)\n",
        "print(\"Precision:\", precision_score(targets_test, predicted_labels))\n",
        "print(\"Recall:\", recall_score(targets_test, predicted_labels))\n",
        "print(\"F1-Score:\", f1_score(targets_test, predicted_labels))\n"
      ],
      "metadata": {
        "colab": {
          "base_uri": "https://localhost:8080/"
        },
        "id": "e7cw_B9fQFZx",
        "outputId": "7ee19291-806f-4008-82d4-19e535625d41"
      },
      "execution_count": 16,
      "outputs": [
        {
          "output_type": "stream",
          "name": "stdout",
          "text": [
            "Precision: 0.9162303664921466\n",
            "Recall: 0.9562841530054644\n",
            "F1-Score: 0.9358288770053476\n"
          ]
        }
      ]
    },
    {
      "cell_type": "code",
      "source": [
        "#29 Write a Python program to train a Decision Tree Classifier and visualize the confusion matrix using seaborn\n",
        "\n",
        "import pandas as pd\n",
        "import seaborn as sns\n",
        "import matplotlib.pyplot as plt\n",
        "from sklearn.model_selection import train_test_split\n",
        "from sklearn.tree import DecisionTreeClassifier\n",
        "from sklearn.metrics import confusion_matrix\n",
        "from sklearn.datasets import load_breast_cancer\n",
        "\n",
        "# Load the breast cancer dataset\n",
        "dataset = load_breast_cancer()\n",
        "features = pd.DataFrame(dataset.data, columns=dataset.feature_names)\n",
        "labels = pd.Series(dataset.target)\n",
        "\n",
        "# Split the data into training and testing sets\n",
        "features_train, features_test, labels_train, labels_test = train_test_split(\n",
        "    features, labels, test_size=0.2, random_state=42)\n",
        "\n",
        "# Create and train a Decision Tree classifier\n",
        "classifier = DecisionTreeClassifier()\n",
        "classifier.fit(features_train, labels_train)\n",
        "\n",
        "# Make predictions on the test set and calculate the confusion matrix\n",
        "predictions = classifier.predict(features_test)\n",
        "conf_matrix = confusion_matrix(labels_test, predictions)\n",
        "\n",
        "# Visualize the confusion matrix using a heatmap\n",
        "plt.figure(figsize=(5, 4))\n",
        "sns.heatmap(conf_matrix, annot=True, fmt='d', cmap='Blues')\n",
        "plt.xlabel('Predicted Class')\n",
        "plt.ylabel('Actual Class')\n",
        "plt.title('Confusion Matrix Visualization')\n",
        "plt.show()\n"
      ],
      "metadata": {
        "colab": {
          "base_uri": "https://localhost:8080/",
          "height": 410
        },
        "id": "dqLw_wH8QFng",
        "outputId": "15143d1b-3890-4de8-ae39-3718f1bd633c"
      },
      "execution_count": 17,
      "outputs": [
        {
          "output_type": "display_data",
          "data": {
            "text/plain": [
              "<Figure size 500x400 with 2 Axes>"
            ],
            "image/png": "[encoded data removed]"
          },
          "metadata": {}
        }
      ]
    },
    {
      "cell_type": "code",
      "source": [
        "#30 Write a Python program to train a Decision Tree Classifier and use GridSearchCV to find the optimal values for max_depth and min_samples_split.\n",
        "\n",
        "import pandas as pd\n",
        "from sklearn.model_selection import train_test_split, GridSearchCV\n",
        "from sklearn.tree import DecisionTreeClassifier\n",
        "from sklearn.datasets import load_wine\n",
        "from sklearn.metrics import accuracy_score\n",
        "\n",
        "# Load the wine dataset\n",
        "dataset = load_wine()\n",
        "features = pd.DataFrame(dataset.data, columns=dataset.feature_names)\n",
        "labels = pd.Series(dataset.target)\n",
        "\n",
        "# Split data into training and testing sets\n",
        "features_train, features_test, labels_train, labels_test = train_test_split(\n",
        "    features, labels, test_size=0.2, random_state=42)\n",
        "\n",
        "# Set up the hyperparameter options to try during tuning\n",
        "hyperparams = {\n",
        "    'max_depth': [3, 5, 10, None],\n",
        "    'min_samples_split': [2, 5, 10]\n",
        "}\n",
        "\n",
        "# Use Grid Search with 5-fold cross-validation to find the best parameters for the Decision Tree\n",
        "search = GridSearchCV(DecisionTreeClassifier(random_state=42), hyperparams, cv=5)\n",
        "search.fit(features_train, labels_train)\n",
        "\n",
        "# Retrieve the best model found by Grid Search and predict on the test data\n",
        "optimal_model = search.best_estimator_\n",
        "predictions = optimal_model.predict(features_test)\n",
        "\n",
        "# Display the optimal hyperparameters and the accuracy score of the best model\n",
        "print(\"Optimal Parameters:\", search.best_params_)\n",
        "print(\"Accuracy of Best Model:\", accuracy_score(labels_test, predictions))\n"
      ],
      "metadata": {
        "colab": {
          "base_uri": "https://localhost:8080/"
        },
        "id": "wRhtPf3pQFxL",
        "outputId": "d52855f7-6e92-483a-c8c8-afb961357ac7"
      },
      "execution_count": 18,
      "outputs": [
        {
          "output_type": "stream",
          "name": "stdout",
          "text": [
            "Optimal Parameters: {'max_depth': 3, 'min_samples_split': 2}\n",
            "Accuracy of Best Model: 0.9444444444444444\n"
          ]
        }
      ]
    }
  ]
}